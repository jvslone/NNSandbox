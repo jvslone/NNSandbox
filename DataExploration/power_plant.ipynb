{
 "cells": [
  {
   "cell_type": "markdown",
   "id": "1a5a4509",
   "metadata": {},
   "source": [
    "## Import Statements"
   ]
  },
  {
   "cell_type": "code",
   "execution_count": 1,
   "id": "e02111ba",
   "metadata": {},
   "outputs": [],
   "source": [
    "import pandas as pd\n",
    "import numpy as np\n",
    "import matplotlib.pyplot as plt\n",
    "from IPython.display import display"
   ]
  },
  {
   "cell_type": "markdown",
   "id": "8a83d4ac",
   "metadata": {},
   "source": [
    "## Loading Data"
   ]
  },
  {
   "cell_type": "code",
   "execution_count": 2,
   "id": "a0843430",
   "metadata": {},
   "outputs": [
    {
     "name": "stdout",
     "output_type": "stream",
     "text": [
      "Data Loaded Successfully\n"
     ]
    },
    {
     "data": {
      "text/html": [
       "<div>\n",
       "<style scoped>\n",
       "    .dataframe tbody tr th:only-of-type {\n",
       "        vertical-align: middle;\n",
       "    }\n",
       "\n",
       "    .dataframe tbody tr th {\n",
       "        vertical-align: top;\n",
       "    }\n",
       "\n",
       "    .dataframe thead th {\n",
       "        text-align: right;\n",
       "    }\n",
       "</style>\n",
       "<table border=\"1\" class=\"dataframe\">\n",
       "  <thead>\n",
       "    <tr style=\"text-align: right;\">\n",
       "      <th></th>\n",
       "      <th>AT</th>\n",
       "      <th>V</th>\n",
       "      <th>AP</th>\n",
       "      <th>RH</th>\n",
       "      <th>PE</th>\n",
       "    </tr>\n",
       "  </thead>\n",
       "  <tbody>\n",
       "    <tr>\n",
       "      <th>0</th>\n",
       "      <td>14.96</td>\n",
       "      <td>41.76</td>\n",
       "      <td>1024.07</td>\n",
       "      <td>73.17</td>\n",
       "      <td>463.26</td>\n",
       "    </tr>\n",
       "    <tr>\n",
       "      <th>1</th>\n",
       "      <td>25.18</td>\n",
       "      <td>62.96</td>\n",
       "      <td>1020.04</td>\n",
       "      <td>59.08</td>\n",
       "      <td>444.37</td>\n",
       "    </tr>\n",
       "    <tr>\n",
       "      <th>2</th>\n",
       "      <td>5.11</td>\n",
       "      <td>39.40</td>\n",
       "      <td>1012.16</td>\n",
       "      <td>92.14</td>\n",
       "      <td>488.56</td>\n",
       "    </tr>\n",
       "    <tr>\n",
       "      <th>3</th>\n",
       "      <td>20.86</td>\n",
       "      <td>57.32</td>\n",
       "      <td>1010.24</td>\n",
       "      <td>76.64</td>\n",
       "      <td>446.48</td>\n",
       "    </tr>\n",
       "    <tr>\n",
       "      <th>4</th>\n",
       "      <td>10.82</td>\n",
       "      <td>37.50</td>\n",
       "      <td>1009.23</td>\n",
       "      <td>96.62</td>\n",
       "      <td>473.90</td>\n",
       "    </tr>\n",
       "  </tbody>\n",
       "</table>\n",
       "</div>"
      ],
      "text/plain": [
       "      AT      V       AP     RH      PE\n",
       "0  14.96  41.76  1024.07  73.17  463.26\n",
       "1  25.18  62.96  1020.04  59.08  444.37\n",
       "2   5.11  39.40  1012.16  92.14  488.56\n",
       "3  20.86  57.32  1010.24  76.64  446.48\n",
       "4  10.82  37.50  1009.23  96.62  473.90"
      ]
     },
     "metadata": {},
     "output_type": "display_data"
    },
    {
     "name": "stdout",
     "output_type": "stream",
     "text": [
      "Number of Samples: 9568\n",
      "Number of Features: 5\n",
      "Data Shape: (9568, 5)\n"
     ]
    }
   ],
   "source": [
    "#Load in data and display the first few rows\n",
    "power_plant_data = pd.read_csv('../Datasets/power_plant.csv')\n",
    "print('Data Loaded Successfully')\n",
    "display(power_plant_data.head())\n",
    "\n",
    "#Check Shape\n",
    "num_samples = power_plant_data.shape[0]\n",
    "num_features = power_plant_data.shape[1]\n",
    "print('Number of Samples:', num_samples)\n",
    "print('Number of Features:', num_features)\n",
    "print('Data Shape:', power_plant_data.shape) #(Samples, Features)"
   ]
  },
  {
   "cell_type": "markdown",
   "id": "593c263e",
   "metadata": {},
   "source": [
    "## Preprocessing Data"
   ]
  },
  {
   "cell_type": "code",
   "execution_count": 3,
   "id": "f9357a30",
   "metadata": {},
   "outputs": [],
   "source": [
    "#None Needed"
   ]
  },
  {
   "cell_type": "markdown",
   "id": "b203dafc",
   "metadata": {},
   "source": [
    "## Examining Data"
   ]
  },
  {
   "cell_type": "code",
   "execution_count": 4,
   "id": "2876e2b0",
   "metadata": {},
   "outputs": [
    {
     "name": "stdout",
     "output_type": "stream",
     "text": [
      "Keys in the dataset:\n",
      "Index(['AT', 'V', 'AP', 'RH', 'PE'], dtype='object')\n",
      "\n"
     ]
    },
    {
     "data": {
      "text/html": [
       "<style type=\"text/css\">\n",
       "#T_6d1ba_row0_col0, #T_6d1ba_row1_col1, #T_6d1ba_row2_col2, #T_6d1ba_row3_col3, #T_6d1ba_row4_col4 {\n",
       "  background-color: #b40426;\n",
       "  color: #f1f1f1;\n",
       "}\n",
       "#T_6d1ba_row0_col1, #T_6d1ba_row1_col0 {\n",
       "  background-color: #cf453c;\n",
       "  color: #f1f1f1;\n",
       "}\n",
       "#T_6d1ba_row0_col2, #T_6d1ba_row2_col0 {\n",
       "  background-color: #8caffe;\n",
       "  color: #000000;\n",
       "}\n",
       "#T_6d1ba_row0_col3, #T_6d1ba_row3_col0 {\n",
       "  background-color: #85a8fc;\n",
       "  color: #f1f1f1;\n",
       "}\n",
       "#T_6d1ba_row0_col4, #T_6d1ba_row4_col0 {\n",
       "  background-color: #4257c9;\n",
       "  color: #f1f1f1;\n",
       "}\n",
       "#T_6d1ba_row1_col2, #T_6d1ba_row2_col1 {\n",
       "  background-color: #9dbdff;\n",
       "  color: #000000;\n",
       "}\n",
       "#T_6d1ba_row1_col3, #T_6d1ba_row3_col1 {\n",
       "  background-color: #aec9fc;\n",
       "  color: #000000;\n",
       "}\n",
       "#T_6d1ba_row1_col4, #T_6d1ba_row4_col1 {\n",
       "  background-color: #4e68d8;\n",
       "  color: #f1f1f1;\n",
       "}\n",
       "#T_6d1ba_row2_col3, #T_6d1ba_row3_col2 {\n",
       "  background-color: #e9d5cb;\n",
       "  color: #000000;\n",
       "}\n",
       "#T_6d1ba_row2_col4, #T_6d1ba_row4_col2 {\n",
       "  background-color: #f39577;\n",
       "  color: #000000;\n",
       "}\n",
       "#T_6d1ba_row3_col4, #T_6d1ba_row4_col3 {\n",
       "  background-color: #f7af91;\n",
       "  color: #000000;\n",
       "}\n",
       "</style>\n",
       "<table id=\"T_6d1ba\">\n",
       "  <thead>\n",
       "    <tr>\n",
       "      <th class=\"blank level0\" >&nbsp;</th>\n",
       "      <th id=\"T_6d1ba_level0_col0\" class=\"col_heading level0 col0\" >AT</th>\n",
       "      <th id=\"T_6d1ba_level0_col1\" class=\"col_heading level0 col1\" >V</th>\n",
       "      <th id=\"T_6d1ba_level0_col2\" class=\"col_heading level0 col2\" >AP</th>\n",
       "      <th id=\"T_6d1ba_level0_col3\" class=\"col_heading level0 col3\" >RH</th>\n",
       "      <th id=\"T_6d1ba_level0_col4\" class=\"col_heading level0 col4\" >PE</th>\n",
       "    </tr>\n",
       "  </thead>\n",
       "  <tbody>\n",
       "    <tr>\n",
       "      <th id=\"T_6d1ba_level0_row0\" class=\"row_heading level0 row0\" >AT</th>\n",
       "      <td id=\"T_6d1ba_row0_col0\" class=\"data row0 col0\" >1.000000</td>\n",
       "      <td id=\"T_6d1ba_row0_col1\" class=\"data row0 col1\" >0.844107</td>\n",
       "      <td id=\"T_6d1ba_row0_col2\" class=\"data row0 col2\" >-0.507549</td>\n",
       "      <td id=\"T_6d1ba_row0_col3\" class=\"data row0 col3\" >-0.542535</td>\n",
       "      <td id=\"T_6d1ba_row0_col4\" class=\"data row0 col4\" >-0.948128</td>\n",
       "    </tr>\n",
       "    <tr>\n",
       "      <th id=\"T_6d1ba_level0_row1\" class=\"row_heading level0 row1\" >V</th>\n",
       "      <td id=\"T_6d1ba_row1_col0\" class=\"data row1 col0\" >0.844107</td>\n",
       "      <td id=\"T_6d1ba_row1_col1\" class=\"data row1 col1\" >1.000000</td>\n",
       "      <td id=\"T_6d1ba_row1_col2\" class=\"data row1 col2\" >-0.413502</td>\n",
       "      <td id=\"T_6d1ba_row1_col3\" class=\"data row1 col3\" >-0.312187</td>\n",
       "      <td id=\"T_6d1ba_row1_col4\" class=\"data row1 col4\" >-0.869780</td>\n",
       "    </tr>\n",
       "    <tr>\n",
       "      <th id=\"T_6d1ba_level0_row2\" class=\"row_heading level0 row2\" >AP</th>\n",
       "      <td id=\"T_6d1ba_row2_col0\" class=\"data row2 col0\" >-0.507549</td>\n",
       "      <td id=\"T_6d1ba_row2_col1\" class=\"data row2 col1\" >-0.413502</td>\n",
       "      <td id=\"T_6d1ba_row2_col2\" class=\"data row2 col2\" >1.000000</td>\n",
       "      <td id=\"T_6d1ba_row2_col3\" class=\"data row2 col3\" >0.099574</td>\n",
       "      <td id=\"T_6d1ba_row2_col4\" class=\"data row2 col4\" >0.518429</td>\n",
       "    </tr>\n",
       "    <tr>\n",
       "      <th id=\"T_6d1ba_level0_row3\" class=\"row_heading level0 row3\" >RH</th>\n",
       "      <td id=\"T_6d1ba_row3_col0\" class=\"data row3 col0\" >-0.542535</td>\n",
       "      <td id=\"T_6d1ba_row3_col1\" class=\"data row3 col1\" >-0.312187</td>\n",
       "      <td id=\"T_6d1ba_row3_col2\" class=\"data row3 col2\" >0.099574</td>\n",
       "      <td id=\"T_6d1ba_row3_col3\" class=\"data row3 col3\" >1.000000</td>\n",
       "      <td id=\"T_6d1ba_row3_col4\" class=\"data row3 col4\" >0.389794</td>\n",
       "    </tr>\n",
       "    <tr>\n",
       "      <th id=\"T_6d1ba_level0_row4\" class=\"row_heading level0 row4\" >PE</th>\n",
       "      <td id=\"T_6d1ba_row4_col0\" class=\"data row4 col0\" >-0.948128</td>\n",
       "      <td id=\"T_6d1ba_row4_col1\" class=\"data row4 col1\" >-0.869780</td>\n",
       "      <td id=\"T_6d1ba_row4_col2\" class=\"data row4 col2\" >0.518429</td>\n",
       "      <td id=\"T_6d1ba_row4_col3\" class=\"data row4 col3\" >0.389794</td>\n",
       "      <td id=\"T_6d1ba_row4_col4\" class=\"data row4 col4\" >1.000000</td>\n",
       "    </tr>\n",
       "  </tbody>\n",
       "</table>\n"
      ],
      "text/plain": [
       "<pandas.io.formats.style.Styler at 0x13d3e820980>"
      ]
     },
     "metadata": {},
     "output_type": "display_data"
    }
   ],
   "source": [
    "#Print all the keys in the dataset\n",
    "print('Keys in the dataset:')\n",
    "print(power_plant_data.keys(), end='\\n\\n')\n",
    "\n",
    "#Display correlation matrix\n",
    "corr_mat = power_plant_data.corr()\n",
    "corr_mat = (\n",
    "    corr_mat\n",
    "    .style\n",
    "    .background_gradient(\n",
    "        cmap='coolwarm',\n",
    "        vmin=-1,\n",
    "        vmax=1,\n",
    "        axis=None\n",
    "    )\n",
    ")\n",
    "display(corr_mat)\n"
   ]
  },
  {
   "cell_type": "markdown",
   "id": "2103c902",
   "metadata": {},
   "source": [
    "## Setting Target and Features"
   ]
  },
  {
   "cell_type": "code",
   "execution_count": 5,
   "id": "9bb8dbe4",
   "metadata": {},
   "outputs": [
    {
     "name": "stdout",
     "output_type": "stream",
     "text": [
      "Target variable set\n",
      "Target variable dropped from data\n"
     ]
    }
   ],
   "source": [
    "#Set the target variable\n",
    "target_data = power_plant_data['PE']\n",
    "print('Target variable set')\n",
    "\n",
    "#Drop the target variable from the data\n",
    "auto_mpg_data = power_plant_data.drop(columns=['PE'])\n",
    "print('Target variable dropped from data')"
   ]
  }
 ],
 "metadata": {
  "kernelspec": {
   "display_name": "Python 3",
   "language": "python",
   "name": "python3"
  },
  "language_info": {
   "codemirror_mode": {
    "name": "ipython",
    "version": 3
   },
   "file_extension": ".py",
   "mimetype": "text/x-python",
   "name": "python",
   "nbconvert_exporter": "python",
   "pygments_lexer": "ipython3",
   "version": "3.13.3"
  }
 },
 "nbformat": 4,
 "nbformat_minor": 5
}
